{
 "cells": [
  {
   "cell_type": "markdown",
   "metadata": {},
   "source": [
    "### Note\n",
    "* Instructions have been included for each segment. You do not have to follow them exactly, but they are included to help you think through the steps."
   ]
  },
  {
   "cell_type": "code",
   "execution_count": 1,
   "metadata": {},
   "outputs": [],
   "source": [
    "# Dependencies and Setup\n",
    "import pandas as pd\n",
    "\n",
    "# PyMoli dat file for analysis\n",
    "PyMoli_data = (\"Resources/purchase_data.csv\")\n",
    "\n",
    "# Read Purchasing File and store into Pandas data frame\n",
    "PyMoli_df = pd.read_csv(PyMoli_data)\n",
    "\n",
    "# View Header\n",
    "PyMoli_df.head()\n",
    "\n",
    "# Get column list\n",
    "# col_list =PyMoli_df.columns.values.tolist()\n",
    "\n",
    "# #Check Data types for analysis later\n",
    "# print(PyMoli_df.dtypes)\n"
   ]
  },
  {
   "cell_type": "markdown",
   "metadata": {},
   "source": [
    "## Player Count"
   ]
  },
  {
   "cell_type": "markdown",
   "metadata": {},
   "source": [
    "* Display the total number of players\n"
   ]
  },
  {
   "cell_type": "code",
   "execution_count": 2,
   "metadata": {},
   "outputs": [
    {
     "data": {
      "text/html": [
       "<style  type=\"text/css\" >\n",
       "    #T_aaba302d_0676_11eb_a68b_ac1203301c8a td {\n",
       "          font-size: 110%;\n",
       "          text-align: left;\n",
       "    }    #T_aaba302d_0676_11eb_a68b_ac1203301c8a th {\n",
       "          font-size: 125%;\n",
       "          text-align: left;\n",
       "    }</style><table id=\"T_aaba302d_0676_11eb_a68b_ac1203301c8a\" ><thead>    <tr>        <th class=\"blank level0\" ></th>        <th class=\"col_heading level0 col0\" >Total Players</th>    </tr></thead><tbody>\n",
       "                <tr>\n",
       "                        <th id=\"T_aaba302d_0676_11eb_a68b_ac1203301c8alevel0_row0\" class=\"row_heading level0 row0\" >0</th>\n",
       "                        <td id=\"T_aaba302d_0676_11eb_a68b_ac1203301c8arow0_col0\" class=\"data row0 col0\" >576</td>\n",
       "            </tr>\n",
       "    </tbody></table>"
      ],
      "text/plain": [
       "<pandas.io.formats.style.Styler at 0x256c93e0310>"
      ]
     },
     "execution_count": 2,
     "metadata": {},
     "output_type": "execute_result"
    }
   ],
   "source": [
    "player_count = PyMoli_df['SN'].nunique()\n",
    "\n",
    "player_count_df = pd.DataFrame( {'Total Players':[player_count]})\n",
    "\n",
    "\n",
    "from IPython.display import HTML\n",
    "\n",
    "styles = [\n",
    "    dict(selector=\"td\", props=[(\"font-size\", \"110%\"),\n",
    "                               (\"text-align\", \"left\")]),\n",
    "    dict(selector=\"th\", props=[(\"font-size\", \"125%\"),\n",
    "                               (\"text-align\", \"left\")]),\n",
    "]\n",
    "html = player_count_df.style.set_table_styles(styles)\n",
    "html\n",
    "\n",
    "\n"
   ]
  },
  {
   "cell_type": "markdown",
   "metadata": {},
   "source": [
    "## Purchasing Analysis (Total)"
   ]
  },
  {
   "cell_type": "markdown",
   "metadata": {},
   "source": [
    "* Run basic calculations to obtain number of unique items, average price, etc.\n",
    "\n",
    "\n",
    "* Create a summary data frame to hold the results\n",
    "\n",
    "\n",
    "* Optional: give the displayed data cleaner formatting\n",
    "\n",
    "\n",
    "* Display the summary data frame\n"
   ]
  },
  {
   "cell_type": "code",
   "execution_count": 3,
   "metadata": {
    "scrolled": true
   },
   "outputs": [
    {
     "data": {
      "text/html": [
       "<style  type=\"text/css\" >\n",
       "    #T_aabc785f_0676_11eb_bd11_ac1203301c8a td {\n",
       "          font-size: 110%;\n",
       "          text-align: left;\n",
       "    }</style><table id=\"T_aabc785f_0676_11eb_bd11_ac1203301c8a\" ><thead>    <tr>        <th class=\"blank level0\" ></th>        <th class=\"col_heading level0 col0\" >Total Unique Items</th>        <th class=\"col_heading level0 col1\" >Average Price</th>        <th class=\"col_heading level0 col2\" >Quantity of Purchases</th>        <th class=\"col_heading level0 col3\" >Total Revenue</th>    </tr></thead><tbody>\n",
       "                <tr>\n",
       "                        <th id=\"T_aabc785f_0676_11eb_bd11_ac1203301c8alevel0_row0\" class=\"row_heading level0 row0\" >0</th>\n",
       "                        <td id=\"T_aabc785f_0676_11eb_bd11_ac1203301c8arow0_col0\" class=\"data row0 col0\" >179</td>\n",
       "                        <td id=\"T_aabc785f_0676_11eb_bd11_ac1203301c8arow0_col1\" class=\"data row0 col1\" >$3.05</td>\n",
       "                        <td id=\"T_aabc785f_0676_11eb_bd11_ac1203301c8arow0_col2\" class=\"data row0 col2\" >780</td>\n",
       "                        <td id=\"T_aabc785f_0676_11eb_bd11_ac1203301c8arow0_col3\" class=\"data row0 col3\" >$2379.77</td>\n",
       "            </tr>\n",
       "    </tbody></table>"
      ],
      "text/plain": [
       "<pandas.io.formats.style.Styler at 0x256ca4170a0>"
      ]
     },
     "execution_count": 3,
     "metadata": {},
     "output_type": "execute_result"
    }
   ],
   "source": [
    "unique_items = PyMoli_df['Item Name'].nunique()\n",
    "average_price =PyMoli_df['Price'].mean()\n",
    "quantity_purchases = PyMoli_df['Purchase ID'].count()\n",
    "total_revenue =PyMoli_df['Price'].sum()\n",
    "\n",
    "#Create a summary data frame to hold the results\n",
    "dataDict = {'Total Unique Items':[unique_items],'Average Price':[average_price],'Quantity of Purchases':[quantity_purchases],'Total Revenue':[total_revenue]}\n",
    "purchasing_analysis_df = pd.DataFrame(dataDict)\n",
    "\n",
    "#Improve readability with currency formating\n",
    "purchasing_analysis_df['Average Price'] = purchasing_analysis_df['Average Price'].map(\"${:.2f}\".format)\n",
    "purchasing_analysis_df['Total Revenue'] = purchasing_analysis_df['Total Revenue'].map(\"${:.2f}\".format)\n",
    "\n",
    "#Display the summary data frame\n",
    "from IPython.display import HTML\n",
    "\n",
    "styles = [\n",
    "    dict(selector=\"td\", props=[(\"font-size\", \"110%\"),\n",
    "                               (\"text-align\", \"left\")])\n",
    "]\n",
    "html = purchasing_analysis_df.style.set_table_styles(styles)\n",
    "html    "
   ]
  },
  {
   "cell_type": "markdown",
   "metadata": {},
   "source": [
    "## Gender Demographics"
   ]
  },
  {
   "cell_type": "markdown",
   "metadata": {},
   "source": [
    "dataFrame.drop_duplicates(subset=None, keep=’first’, inplace=False)\n",
    "* Percentage and Count of Male Players\n",
    "* Percentage and Count of Female Players\n",
    "* Percentage and Count of Other / Non-Disclosed\n",
    "\n",
    "\n"
   ]
  },
  {
   "cell_type": "code",
   "execution_count": 4,
   "metadata": {},
   "outputs": [
    {
     "data": {
      "text/html": [
       "<style  type=\"text/css\" >\n",
       "    #T_aac1574b_0676_11eb_a1f2_ac1203301c8a td {\n",
       "          font-size: 110%;\n",
       "          text-align: left;\n",
       "    }    #T_aac1574b_0676_11eb_a1f2_ac1203301c8a th {\n",
       "          font-size: 120%;\n",
       "          text-align: left;\n",
       "    }</style><table id=\"T_aac1574b_0676_11eb_a1f2_ac1203301c8a\" ><thead>    <tr>        <th class=\"blank level0\" ></th>        <th class=\"col_heading level0 col0\" >Total Count</th>        <th class=\"col_heading level0 col1\" >Percentage of Players</th>    </tr>    <tr>        <th class=\"index_name level0\" >Gender</th>        <th class=\"blank\" ></th>        <th class=\"blank\" ></th>    </tr></thead><tbody>\n",
       "                <tr>\n",
       "                        <th id=\"T_aac1574b_0676_11eb_a1f2_ac1203301c8alevel0_row0\" class=\"row_heading level0 row0\" >Male</th>\n",
       "                        <td id=\"T_aac1574b_0676_11eb_a1f2_ac1203301c8arow0_col0\" class=\"data row0 col0\" >484</td>\n",
       "                        <td id=\"T_aac1574b_0676_11eb_a1f2_ac1203301c8arow0_col1\" class=\"data row0 col1\" >84.03%</td>\n",
       "            </tr>\n",
       "            <tr>\n",
       "                        <th id=\"T_aac1574b_0676_11eb_a1f2_ac1203301c8alevel0_row1\" class=\"row_heading level0 row1\" >Female</th>\n",
       "                        <td id=\"T_aac1574b_0676_11eb_a1f2_ac1203301c8arow1_col0\" class=\"data row1 col0\" >81</td>\n",
       "                        <td id=\"T_aac1574b_0676_11eb_a1f2_ac1203301c8arow1_col1\" class=\"data row1 col1\" >14.06%</td>\n",
       "            </tr>\n",
       "            <tr>\n",
       "                        <th id=\"T_aac1574b_0676_11eb_a1f2_ac1203301c8alevel0_row2\" class=\"row_heading level0 row2\" >Other / Non-Disclosed</th>\n",
       "                        <td id=\"T_aac1574b_0676_11eb_a1f2_ac1203301c8arow2_col0\" class=\"data row2 col0\" >11</td>\n",
       "                        <td id=\"T_aac1574b_0676_11eb_a1f2_ac1203301c8arow2_col1\" class=\"data row2 col1\" >1.91%</td>\n",
       "            </tr>\n",
       "    </tbody></table>"
      ],
      "text/plain": [
       "<pandas.io.formats.style.Styler at 0x256c93f5370>"
      ]
     },
     "execution_count": 4,
     "metadata": {},
     "output_type": "execute_result"
    }
   ],
   "source": [
    "#Get a dataframe of just names and genders \n",
    "SN_Gender_df= PyMoli_df[[\"SN\",\"Gender\"]]    \n",
    "SN_Gender_unique_df = SN_Gender_df.drop_duplicates(subset=None, keep='first', inplace=False)\n",
    "\n",
    "#Get groupby object to creae dataframe\n",
    "gender_df = SN_Gender_unique_df.groupby('Gender')\n",
    "\n",
    "\n",
    "#create output dataframe - divide by player_count - Total Count  & Percentage of Players\n",
    "gender_demo_df = gender_df.count()\n",
    "percentage_of_players = gender_demo_df[\"SN\"]*100/player_count\n",
    "gender_demo_df[\"Percentage of Players\"] = percentage_of_players\n",
    "gender_demo_df[\"Percentage of Players\"] = gender_demo_df[\"Percentage of Players\"].map(\"{:.2f}%\".format)\n",
    "gender_demo_df = gender_demo_df.sort_values('SN',ascending = False)\n",
    "gender_demo_df.rename(columns = {\"SN\" : \"Total Count\"}, inplace = True)\n",
    "\n",
    "from IPython.display import HTML\n",
    "\n",
    "styles = [\n",
    "    dict(selector=\"td\", props=[(\"font-size\", \"110%\"),\n",
    "                               (\"text-align\", \"left\")]),\n",
    "    dict(selector=\"th\", props=[(\"font-size\", \"120%\"),\n",
    "                               (\"text-align\", \"left\")]),\n",
    "]\n",
    "html = gender_demo_df.style.set_table_styles(styles)\n",
    "html\n"
   ]
  },
  {
   "cell_type": "markdown",
   "metadata": {},
   "source": [
    "\n",
    "## Purchasing Analysis (Gender)"
   ]
  },
  {
   "cell_type": "markdown",
   "metadata": {},
   "source": [
    "* Run basic calculations to obtain purchase count, avg. purchase price, avg. purchase total per person etc. by gender\n",
    "\n",
    "\n",
    "\n",
    "\n",
    "* Create a summary data frame to hold the results\n",
    "\n",
    "\n",
    "* Optional: give the displayed data cleaner formatting\n",
    "\n",
    "\n",
    "* Display the summary data frame"
   ]
  },
  {
   "cell_type": "code",
   "execution_count": 5,
   "metadata": {},
   "outputs": [
    {
     "data": {
      "text/html": [
       "<style  type=\"text/css\" >\n",
       "    #T_aac523f3_0676_11eb_91a2_ac1203301c8a td {\n",
       "          font-size: 100%;\n",
       "          text-align: left;\n",
       "    }    #T_aac523f3_0676_11eb_91a2_ac1203301c8a th {\n",
       "          font-size: 110%;\n",
       "          text-align: left;\n",
       "    }</style><table id=\"T_aac523f3_0676_11eb_91a2_ac1203301c8a\" ><thead>    <tr>        <th class=\"blank level0\" ></th>        <th class=\"col_heading level0 col0\" >Purchase Count</th>        <th class=\"col_heading level0 col1\" >Average Purchase Price</th>        <th class=\"col_heading level0 col2\" >Total Purchase Value</th>        <th class=\"col_heading level0 col3\" >Avg Total Purchase per Person</th>    </tr>    <tr>        <th class=\"index_name level0\" >Gender</th>        <th class=\"blank\" ></th>        <th class=\"blank\" ></th>        <th class=\"blank\" ></th>        <th class=\"blank\" ></th>    </tr></thead><tbody>\n",
       "                <tr>\n",
       "                        <th id=\"T_aac523f3_0676_11eb_91a2_ac1203301c8alevel0_row0\" class=\"row_heading level0 row0\" >Male</th>\n",
       "                        <td id=\"T_aac523f3_0676_11eb_91a2_ac1203301c8arow0_col0\" class=\"data row0 col0\" >652</td>\n",
       "                        <td id=\"T_aac523f3_0676_11eb_91a2_ac1203301c8arow0_col1\" class=\"data row0 col1\" >$3.02</td>\n",
       "                        <td id=\"T_aac523f3_0676_11eb_91a2_ac1203301c8arow0_col2\" class=\"data row0 col2\" >$1967.64</td>\n",
       "                        <td id=\"T_aac523f3_0676_11eb_91a2_ac1203301c8arow0_col3\" class=\"data row0 col3\" >$4.07</td>\n",
       "            </tr>\n",
       "            <tr>\n",
       "                        <th id=\"T_aac523f3_0676_11eb_91a2_ac1203301c8alevel0_row1\" class=\"row_heading level0 row1\" >Female</th>\n",
       "                        <td id=\"T_aac523f3_0676_11eb_91a2_ac1203301c8arow1_col0\" class=\"data row1 col0\" >113</td>\n",
       "                        <td id=\"T_aac523f3_0676_11eb_91a2_ac1203301c8arow1_col1\" class=\"data row1 col1\" >$3.20</td>\n",
       "                        <td id=\"T_aac523f3_0676_11eb_91a2_ac1203301c8arow1_col2\" class=\"data row1 col2\" >$361.94</td>\n",
       "                        <td id=\"T_aac523f3_0676_11eb_91a2_ac1203301c8arow1_col3\" class=\"data row1 col3\" >$4.47</td>\n",
       "            </tr>\n",
       "            <tr>\n",
       "                        <th id=\"T_aac523f3_0676_11eb_91a2_ac1203301c8alevel0_row2\" class=\"row_heading level0 row2\" >Other / Non-Disclosed</th>\n",
       "                        <td id=\"T_aac523f3_0676_11eb_91a2_ac1203301c8arow2_col0\" class=\"data row2 col0\" >15</td>\n",
       "                        <td id=\"T_aac523f3_0676_11eb_91a2_ac1203301c8arow2_col1\" class=\"data row2 col1\" >$3.35</td>\n",
       "                        <td id=\"T_aac523f3_0676_11eb_91a2_ac1203301c8arow2_col2\" class=\"data row2 col2\" >$50.19</td>\n",
       "                        <td id=\"T_aac523f3_0676_11eb_91a2_ac1203301c8arow2_col3\" class=\"data row2 col3\" >$4.56</td>\n",
       "            </tr>\n",
       "    </tbody></table>"
      ],
      "text/plain": [
       "<pandas.io.formats.style.Styler at 0x256ca480bb0>"
      ]
     },
     "execution_count": 5,
     "metadata": {},
     "output_type": "execute_result"
    }
   ],
   "source": [
    "#Purchase Count by gender\n",
    "purchase_analysis_df = PyMoli_df.groupby('Gender')\n",
    "purchases_by_gender =  purchase_analysis_df['Purchase ID'].count()\n",
    "\n",
    "# Average Purchase Price by gender\n",
    "average_purchase_price_by_gender = purchase_analysis_df['Price'].mean()\n",
    "\n",
    "#Total Purchase Value by gender\n",
    "total_revenues_by_gender = purchase_analysis_df['Price'].sum()\n",
    "\n",
    "# Avg Total Purchase per Person by gender\n",
    "average_purchase_total_by_gender = total_revenues_by_gender/gender_demo_df['Total Count']\n",
    "\n",
    "#Create a summary data frame to hold the results\n",
    "purchasing_analysis_by_gender_df = pd.concat([purchases_by_gender,average_purchase_price_by_gender],axis=1)\n",
    "purchasing_analysis_by_gender_df = pd.concat([purchasing_analysis_by_gender_df,total_revenues_by_gender],axis=1)\n",
    "purchasing_analysis_by_gender_df = pd.concat([purchasing_analysis_by_gender_df,average_purchase_total_by_gender],axis=1)\n",
    "new_cols=['Purchase Count','Average Purchase Price','Total Purchase Value','Avg Total Purchase per Person']\n",
    "purchasing_analysis_by_gender_df.columns=new_cols\n",
    "purchasing_analysis_by_gender_df = purchasing_analysis_by_gender_df.sort_values('Purchase Count',ascending = False)\n",
    "\n",
    "#Improve readability with currency formating\n",
    "purchasing_analysis_by_gender_df['Average Purchase Price'] = purchasing_analysis_by_gender_df['Average Purchase Price'].map(\"${:.2f}\".format)\n",
    "purchasing_analysis_by_gender_df['Total Purchase Value'] = purchasing_analysis_by_gender_df['Total Purchase Value'].map(\"${:.2f}\".format)\n",
    "purchasing_analysis_by_gender_df['Avg Total Purchase per Person'] = purchasing_analysis_by_gender_df['Avg Total Purchase per Person'].map(\"${:.2f}\".format)\n",
    "\n",
    "#Display the summary data frame\n",
    "from IPython.display import HTML\n",
    "\n",
    "styles = [\n",
    "    dict(selector=\"td\", props=[(\"font-size\", \"100%\"),\n",
    "                               (\"text-align\", \"left\")]),\n",
    "    dict(selector=\"th\", props=[(\"font-size\", \"110%\"),\n",
    "                               (\"text-align\", \"left\")]),\n",
    "]\n",
    "html = purchasing_analysis_by_gender_df.style.set_table_styles(styles)\n",
    "html\n"
   ]
  },
  {
   "cell_type": "markdown",
   "metadata": {},
   "source": [
    "## Age Demographics"
   ]
  },
  {
   "cell_type": "markdown",
   "metadata": {},
   "source": [
    "* Establish bins for ages\n",
    "\n",
    "\n",
    "* Categorize the existing players using the age bins. Hint: use pd.cut()\n",
    "\n",
    "\n",
    "* Calculate the numbers and percentages by age group\n",
    "\n",
    "\n",
    "* Create a summary data frame to hold the results\n",
    "\n",
    "\n",
    "* Optional: round the percentage column to two decimal points\n",
    "\n",
    "\n",
    "* Display Age Demographics Table\n"
   ]
  },
  {
   "cell_type": "code",
   "execution_count": null,
   "metadata": {},
   "outputs": [],
   "source": []
  },
  {
   "cell_type": "markdown",
   "metadata": {},
   "source": [
    "## Purchasing Analysis (Age)"
   ]
  },
  {
   "cell_type": "markdown",
   "metadata": {},
   "source": [
    "* Bin the purchase_data data frame by age\n",
    "\n",
    "\n",
    "* Run basic calculations to obtain purchase count, avg. purchase price, avg. purchase total per person etc. in the table below\n",
    "\n",
    "\n",
    "* Create a summary data frame to hold the results\n",
    "\n",
    "\n",
    "* Optional: give the displayed data cleaner formatting\n",
    "\n",
    "\n",
    "* Display the summary data frame"
   ]
  },
  {
   "cell_type": "code",
   "execution_count": null,
   "metadata": {},
   "outputs": [],
   "source": []
  },
  {
   "cell_type": "markdown",
   "metadata": {},
   "source": [
    "## Top Spenders"
   ]
  },
  {
   "cell_type": "markdown",
   "metadata": {},
   "source": [
    "* Run basic calculations to obtain the results in the table below\n",
    "\n",
    "\n",
    "* Create a summary data frame to hold the results\n",
    "\n",
    "\n",
    "* Sort the total purchase value column in descending order\n",
    "\n",
    "\n",
    "* Optional: give the displayed data cleaner formatting\n",
    "\n",
    "\n",
    "* Display a preview of the summary data frame\n",
    "\n"
   ]
  },
  {
   "cell_type": "code",
   "execution_count": null,
   "metadata": {},
   "outputs": [],
   "source": []
  },
  {
   "cell_type": "markdown",
   "metadata": {},
   "source": [
    "## Most Popular Items"
   ]
  },
  {
   "cell_type": "markdown",
   "metadata": {},
   "source": [
    "* Retrieve the Item ID, Item Name, and Item Price columns\n",
    "\n",
    "\n",
    "* Group by Item ID and Item Name. Perform calculations to obtain purchase count, average item price, and total purchase value\n",
    "\n",
    "\n",
    "* Create a summary data frame to hold the results\n",
    "\n",
    "\n",
    "* Sort the purchase count column in descending order\n",
    "\n",
    "\n",
    "* Optional: give the displayed data cleaner formatting\n",
    "\n",
    "\n",
    "* Display a preview of the summary data frame\n",
    "\n"
   ]
  },
  {
   "cell_type": "code",
   "execution_count": null,
   "metadata": {},
   "outputs": [],
   "source": []
  },
  {
   "cell_type": "markdown",
   "metadata": {},
   "source": [
    "## Most Profitable Items"
   ]
  },
  {
   "cell_type": "markdown",
   "metadata": {},
   "source": [
    "* Sort the above table by total purchase value in descending order\n",
    "\n",
    "\n",
    "* Optional: give the displayed data cleaner formatting\n",
    "\n",
    "\n",
    "* Display a preview of the data frame\n",
    "\n"
   ]
  },
  {
   "cell_type": "code",
   "execution_count": null,
   "metadata": {
    "scrolled": true
   },
   "outputs": [],
   "source": []
  }
 ],
 "metadata": {
  "anaconda-cloud": {},
  "kernel_info": {
   "name": "python3"
  },
  "kernelspec": {
   "display_name": "Python 3",
   "language": "python",
   "name": "python3"
  },
  "language_info": {
   "codemirror_mode": {
    "name": "ipython",
    "version": 3
   },
   "file_extension": ".py",
   "mimetype": "text/x-python",
   "name": "python",
   "nbconvert_exporter": "python",
   "pygments_lexer": "ipython3",
   "version": "3.8.3"
  },
  "latex_envs": {
   "LaTeX_envs_menu_present": true,
   "autoclose": false,
   "autocomplete": true,
   "bibliofile": "biblio.bib",
   "cite_by": "apalike",
   "current_citInitial": 1,
   "eqLabelWithNumbers": true,
   "eqNumInitial": 1,
   "hotkeys": {
    "equation": "Ctrl-E",
    "itemize": "Ctrl-I"
   },
   "labels_anchors": false,
   "latex_user_defs": false,
   "report_style_numbering": false,
   "user_envs_cfg": false
  },
  "nteract": {
   "version": "0.2.0"
  }
 },
 "nbformat": 4,
 "nbformat_minor": 2
}
